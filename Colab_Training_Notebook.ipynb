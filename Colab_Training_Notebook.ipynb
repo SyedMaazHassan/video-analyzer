{
 "cells": [
  {
   "cell_type": "markdown",
   "metadata": {},
   "source": [
    "# 🏥 Surgical AI Training on Google Colab\n",
    "\n",
    "Complete training pipeline for surgical video analysis models.\n",
    "\n",
    "**Training Output:** 4 models (Phase, Instrument, Event, Motion Detection)"
   ]
  },
  {
   "cell_type": "markdown",
   "metadata": {},
   "source": [
    "## 🚀 Step 1: Setup Environment"
   ]
  },
  {
   "cell_type": "code",
   "execution_count": null,
   "metadata": {},
   "outputs": [],
   "source": [
    "# Check GPU availability\n",
    "!nvidia-smi\n",
    "\n",
    "# Install requirements\n",
    "!pip install torch torchvision opencv-python-headless numpy pandas lxml tqdm\n",
    "\n",
    "print(\"✅ Environment setup complete!\")"
   ]
  },
  {
   "cell_type": "markdown",
   "metadata": {},
   "source": [
    "## 📥 Step 2: Clone Repository"
   ]
  },
  {
   "cell_type": "code",
   "execution_count": null,
   "metadata": {},
   "outputs": [],
   "source": [
    "# Clone your repository (update the URL)\n",
    "!git clone https://github.com/your-username/video-analyzer.git /content/surgical_ai\n",
    "%cd /content/surgical_ai\n",
    "\n",
    "# Create necessary directories\n",
    "!mkdir -p videos xml_path surgical_ai_system/trained_models\n",
    "\n",
    "print(\"📁 Project structure ready!\")"
   ]
  },
  {
   "cell_type": "markdown",
   "metadata": {},
   "source": [
    "## 📤 Step 3: Upload Training Data\n",
    "\n",
    "**Choose one of these methods:**"
   ]
  },
  {
   "cell_type": "markdown",
   "metadata": {},
   "source": "### Method A: Direct Dropbox Download (Recommended)\n\n**If client shared via Dropbox links - NO local download needed!**"
  },
  {
   "cell_type": "code",
   "execution_count": null,
   "metadata": {},
   "outputs": [],
   "source": "# Direct Dropbox download to Colab\n# Replace with your actual Dropbox share links\n\n# Videos Dropbox link (get from client)\nDROPBOX_VIDEOS_URL = \"https://www.dropbox.com/sh/your-videos-link\"\nDROPBOX_ANNOTATIONS_URL = \"https://www.dropbox.com/sh/your-annotations-link\"\n\n# Convert Dropbox share links to direct download\ndef convert_dropbox_link(share_url):\n    \"\"\"Convert Dropbox share link to direct download.\"\"\"\n    if 'dropbox.com' in share_url:\n        return share_url.replace('?dl=0', '?dl=1').replace('www.dropbox.com', 'dl.dropboxusercontent.com')\n    return share_url\n\n# Download videos directly to Colab\nvideos_url = convert_dropbox_link(DROPBOX_VIDEOS_URL)\nannotations_url = convert_dropbox_link(DROPBOX_ANNOTATIONS_URL)\n\nprint(\"📥 Downloading videos from Dropbox...\")\n!wget -O videos.zip \"{videos_url}\"\n!unzip -q videos.zip -d /content/surgical_ai/videos/\n!rm videos.zip\n\nprint(\"📥 Downloading annotations from Dropbox...\")  \n!wget -O annotations.zip \"{annotations_url}\"\n!unzip -q annotations.zip -d /content/surgical_ai/xml_path/\n!rm annotations.zip\n\nprint(\"✅ Direct Dropbox download complete!\")\nprint(\"💡 No local storage used on your machine!\")"
  },
  {
   "cell_type": "markdown",
   "metadata": {},
   "source": "### Method B: Google Drive Upload (Alternative)"
  },
  {
   "cell_type": "code",
   "execution_count": null,
   "metadata": {},
   "outputs": [],
   "source": "from google.colab import drive\ndrive.mount('/content/drive')\n\n# Copy your videos and XML files\n# UPDATE THESE PATHS TO YOUR GOOGLE DRIVE FOLDERS:\n!cp -r \"/content/drive/MyDrive/surgical_videos/*.mp4\" /content/surgical_ai/videos/\n!cp -r \"/content/drive/MyDrive/xml_annotations/*.xml\" /content/surgical_ai/xml_path/\n\nprint(\"✅ Data copied from Google Drive!\")"
  },
  {
   "cell_type": "markdown",
   "metadata": {},
   "source": [
    "## ✅ Step 4: Verify Data Upload"
   ]
  },
  {
   "cell_type": "code",
   "execution_count": null,
   "metadata": {},
   "outputs": [],
   "source": [
    "# Check uploaded files\n",
    "print(\"📹 Videos:\")\n",
    "!ls -lh videos/\n",
    "\n",
    "print(\"\\n📄 XML Annotations:\")\n",
    "!ls -lh xml_path/\n",
    "\n",
    "# Count files\n",
    "import os\n",
    "video_count = len([f for f in os.listdir('videos') if f.endswith('.mp4')])\n",
    "xml_count = len([f for f in os.listdir('xml_path') if f.endswith('.xml')])\n",
    "\n",
    "print(f\"\\n📊 Found {video_count} videos and {xml_count} XML files\")\n",
    "\n",
    "if video_count > 0 and xml_count > 0:\n",
    "    print(\"✅ Data upload successful! Ready for training.\")\n",
    "else:\n",
    "    print(\"⚠️  Missing data. Please upload videos and XML files.\")"
   ]
  },
  {
   "cell_type": "markdown",
   "metadata": {},
   "source": [
    "## 🎯 Step 5: Start Training"
   ]
  },
  {
   "cell_type": "code",
   "execution_count": null,
   "metadata": {},
   "outputs": [],
   "source": [
    "# Start training all 4 models\n",
    "print(\"🏥 Starting Surgical AI Training...\")\n",
    "print(\"Training 4 models: Phase Detection, Instrument Tracking, Event Detection, Motion Analysis\")\n",
    "print(\"⏱️  Estimated time: 6-8 minutes with GPU\")\n",
    "\n",
    "!python surgical_ai_system/training/practical_master_trainer.py"
   ]
  },
  {
   "cell_type": "markdown",
   "metadata": {},
   "source": [
    "## 📥 Step 6: Download Trained Models"
   ]
  },
  {
   "cell_type": "code",
   "execution_count": null,
   "metadata": {},
   "outputs": [],
   "source": [
    "# Check trained models\n",
    "print(\"🤖 Trained Models:\")\n",
    "!ls -lh surgical_ai_system/trained_models/\n",
    "\n",
    "# Create downloadable zip\n",
    "import zipfile\n",
    "import os\n",
    "\n",
    "with zipfile.ZipFile('trained_models.zip', 'w') as zipf:\n",
    "    for root, dirs, files in os.walk('surgical_ai_system/trained_models'):\n",
    "        for file in files:\n",
    "            if file.endswith('.pth') or file.endswith('.json'):\n",
    "                file_path = os.path.join(root, file)\n",
    "                arcname = os.path.relpath(file_path, '.')\n",
    "                zipf.write(file_path, arcname)\n",
    "\n",
    "print(\"📦 Created trained_models.zip\")\n",
    "\n",
    "# Download the models\n",
    "from google.colab import files\n",
    "files.download('trained_models.zip')\n",
    "\n",
    "print(\"✅ Download complete! Extract and add to your project.\")"
   ]
  },
  {
   "cell_type": "markdown",
   "metadata": {},
   "source": [
    "## 🎉 Training Complete!\n",
    "\n",
    "**Generated Models:**\n",
    "1. `phase_detector.pth` - Surgical phase detection\n",
    "2. `instrument_tracker.pth` - Instrument tracking\n",
    "3. `event_detector.pth` - Event detection\n",
    "4. `motion_analyzer.pth` - Motion analysis\n",
    "5. `model_configs.json` - Model metadata\n",
    "\n",
    "**Next Steps:**\n",
    "1. Download the `trained_models.zip` file\n",
    "2. Extract to your local project's `surgical_ai_system/trained_models/` folder\n",
    "3. Run your GUI - it will now use professional models!\n",
    "4. Commit the trained models to git (gitignore is fixed)"
   ]
  }
 ],
 "metadata": {
  "kernelspec": {
   "display_name": "Python 3",
   "language": "python",
   "name": "python3"
  },
  "language_info": {
   "name": "python",
   "version": "3.8.10"
  }
 },
 "nbformat": 4,
 "nbformat_minor": 4
}